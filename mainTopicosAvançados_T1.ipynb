{
 "cells": [
  {
   "cell_type": "code",
   "execution_count": 1,
   "metadata": {
    "id": "72tCoEmV3wcB"
   },
   "outputs": [],
   "source": [
    "# %pip install numpy\n",
    "# %pip install codecarbon\n",
    "# %pip install pandas\n",
    "# %pip install matplotlib\n",
    "# %pip install seaborn\n",
    "# %pip install scikit-learn\n",
    "# %pip install tensorflow\n",
    "\n",
    "\n",
    "import numpy as np\n",
    "import pandas as pd\n",
    "import matplotlib.pyplot as plt\n",
    "import seaborn as sns\n",
    "from codecarbon import EmissionsTracker\n",
    "sns.set()"
   ]
  },
  {
   "cell_type": "code",
   "execution_count": null,
   "metadata": {
    "id": "Z-jMNq2o32eh"
   },
   "outputs": [],
   "source": [
    "data = pd.read_csv(\"Cardiovascular_Disease_Dataset.csv\")"
   ]
  },
  {
   "cell_type": "code",
   "execution_count": null,
   "metadata": {
    "colab": {
     "base_uri": "https://localhost:8080/",
     "height": 444
    },
    "id": "4FTKm-5o4A_K",
    "outputId": "a660c257-144f-4ea8-fab5-34847caec84a"
   },
   "outputs": [],
   "source": [
    "data.head(1000)"
   ]
  },
  {
   "cell_type": "code",
   "execution_count": null,
   "metadata": {
    "colab": {
     "base_uri": "https://localhost:8080/"
    },
    "id": "fsC9GVJG4D4h",
    "outputId": "a1ccce52-a906-4a55-8731-5da0b7390585"
   },
   "outputs": [],
   "source": [
    "data.info()"
   ]
  },
  {
   "cell_type": "code",
   "execution_count": 45,
   "metadata": {
    "colab": {
     "base_uri": "https://localhost:8080/"
    },
    "id": "r6ctkfQTgtvq",
    "outputId": "46dbc27c-eccf-4897-c64a-435896ea7731"
   },
   "outputs": [
    {
     "name": "stderr",
     "output_type": "stream",
     "text": [
      "[codecarbon ERROR @ 21:14:32] Error: Another instance of codecarbon is already running. Turn off the other instance to be able to run this one. Exiting.\n",
      "[codecarbon WARNING @ 21:14:32] Another instance of codecarbon is already running. Exiting.\n"
     ]
    }
   ],
   "source": [
    "# Iniciar o monitoramento de consumo de energia\n",
    "tracker = EmissionsTracker()\n",
    "tracker.start()\n",
    "\n",
    "# Parar o monitoramento de consumo de energia\n",
    "# tracker.stop()"
   ]
  },
  {
   "cell_type": "code",
   "execution_count": null,
   "metadata": {
    "colab": {
     "base_uri": "https://localhost:8080/",
     "height": 178
    },
    "id": "GpIVVh304JVR",
    "outputId": "3685857a-5953-44a9-de8f-93133b58d188"
   },
   "outputs": [],
   "source": [
    "target_counts = data.target.value_counts()\n",
    "target_counts"
   ]
  },
  {
   "cell_type": "code",
   "execution_count": null,
   "metadata": {
    "colab": {
     "base_uri": "https://localhost:8080/",
     "height": 510
    },
    "id": "sd3I8xOk4Tbz",
    "outputId": "b1fbb484-3137-44e1-d164-634956523829"
   },
   "outputs": [],
   "source": [
    "plt.pie(target_counts,labels=target_counts.index,autopct='%1.1f%%',colors=['red','lightgreen'])"
   ]
  },
  {
   "cell_type": "code",
   "execution_count": null,
   "metadata": {
    "colab": {
     "base_uri": "https://localhost:8080/",
     "height": 573
    },
    "id": "ST-_Zat24XKi",
    "outputId": "73e2030e-de62-4b94-d228-99329a8dc067"
   },
   "outputs": [],
   "source": [
    "plt.figure(figsize=(10, 6))\n",
    "plt.hist(data['age'], bins=30, edgecolor='black', alpha=0.7)\n",
    "plt.xlabel('Age')\n",
    "plt.ylabel('Frequency')\n",
    "plt.title('Age Distribution')\n",
    "plt.grid(axis='y', linestyle='--', alpha=0.7)\n",
    "plt.show()"
   ]
  },
  {
   "cell_type": "code",
   "execution_count": null,
   "metadata": {
    "id": "sy6a0Kut4cEB"
   },
   "outputs": [],
   "source": [
    "features = list(data.columns)\n",
    "features.remove('target')\n",
    "data1 = data[features + ['target']]"
   ]
  },
  {
   "cell_type": "code",
   "execution_count": null,
   "metadata": {
    "colab": {
     "base_uri": "https://localhost:8080/",
     "height": 444
    },
    "id": "W9q9buK34edh",
    "outputId": "a0012c54-ba7b-49b0-9b6f-5e669694a47c"
   },
   "outputs": [],
   "source": [
    "data1"
   ]
  },
  {
   "cell_type": "code",
   "execution_count": null,
   "metadata": {
    "colab": {
     "base_uri": "https://localhost:8080/",
     "height": 1000
    },
    "id": "3V_6LwJL4gd5",
    "outputId": "f4f2ac85-1b0e-496a-cabb-0e929001bc9a"
   },
   "outputs": [],
   "source": [
    "correlation_matrix = data1.corr()\n",
    "fig,ax=plt.subplots(figsize=(15,15))\n",
    "\n",
    "ax=sns.heatmap(correlation_matrix, annot=True, cmap=\"YlGn\")\n",
    "\n",
    "plt.xlabel(\"Features\")\n",
    "plt.ylabel(\"Features\")\n",
    "plt.title(\"Correlation Matrix\")\n",
    "plt.show()"
   ]
  },
  {
   "cell_type": "code",
   "execution_count": null,
   "metadata": {
    "colab": {
     "base_uri": "https://localhost:8080/"
    },
    "id": "Uci-TW8U4nSj",
    "outputId": "4f434fc0-7d2b-432a-978f-816ddefc6e20"
   },
   "outputs": [],
   "source": [
    "X=data1.drop(['patientid','target'],axis=1)\n",
    "X.columns"
   ]
  },
  {
   "cell_type": "code",
   "execution_count": null,
   "metadata": {
    "id": "MDxOHXBR4sNZ"
   },
   "outputs": [],
   "source": [
    "y=data1['target']\n",
    "patientid=data1['patientid']"
   ]
  },
  {
   "cell_type": "code",
   "execution_count": null,
   "metadata": {
    "id": "RecRU-Rr4uaR"
   },
   "outputs": [],
   "source": [
    "from sklearn.model_selection import train_test_split\n",
    "X_train, X_test, y_train, y_test, id_train, id_test = train_test_split(X, y, patientid, test_size=0.2, random_state=42)\n",
    "\n",
    "from sklearn.linear_model import LogisticRegression\n",
    "from sklearn.metrics import accuracy_score, classification_report"
   ]
  },
  {
   "cell_type": "code",
   "execution_count": null,
   "metadata": {
    "id": "1HPRQcI-5hnk"
   },
   "outputs": [],
   "source": [
    "from sklearn.preprocessing import StandardScaler\n",
    "scaler = StandardScaler()\n",
    "X_train = scaler.fit_transform(X_train)\n",
    "X_test = scaler.transform(X_test)  # Important: Use transform, not fit_transform, on test data"
   ]
  },
  {
   "cell_type": "code",
   "execution_count": null,
   "metadata": {
    "id": "b4SnrvY94xYD"
   },
   "outputs": [],
   "source": [
    "hyperparameters = {\n",
    "    'penalty': 'l2',\n",
    "    'solver': 'lbfgs',  # Solver algorithm\n",
    "    'max_iter': 1000  # number of iterations\n",
    "}"
   ]
  },
  {
   "cell_type": "code",
   "execution_count": null,
   "metadata": {
    "id": "c_pIy6IL4zkz"
   },
   "outputs": [],
   "source": [
    "model_log = LogisticRegression(**hyperparameters)\n",
    "result_log=model_log.fit(X_train, y_train)"
   ]
  },
  {
   "cell_type": "code",
   "execution_count": null,
   "metadata": {
    "colab": {
     "base_uri": "https://localhost:8080/"
    },
    "id": "39g1e65V5uDY",
    "outputId": "c9cff3fd-70d1-4fe0-aac8-5cd147d6ef07"
   },
   "outputs": [],
   "source": [
    "y_log_pred = model_log.predict(X_test)\n",
    "y_log_pred"
   ]
  },
  {
   "cell_type": "code",
   "execution_count": null,
   "metadata": {
    "colab": {
     "base_uri": "https://localhost:8080/"
    },
    "id": "kl9s84UO5xGY",
    "outputId": "65b98938-21d4-45db-bd33-c87459c6cc3c"
   },
   "outputs": [],
   "source": [
    "accuracy = accuracy_score(y_test, y_log_pred)\n",
    "print(f\"Accuracy: {accuracy:.2f}\")"
   ]
  },
  {
   "cell_type": "code",
   "execution_count": null,
   "metadata": {
    "colab": {
     "base_uri": "https://localhost:8080/"
    },
    "id": "J4kpRCHB5zsA",
    "outputId": "cc1b8877-6ce6-4df8-8fdb-f82962799eae"
   },
   "outputs": [],
   "source": [
    "print(\"Classification Report:\")\n",
    "print(classification_report(y_test, y_log_pred))"
   ]
  },
  {
   "cell_type": "code",
   "execution_count": null,
   "metadata": {
    "colab": {
     "base_uri": "https://localhost:8080/"
    },
    "id": "tvwZ3ut_52-4",
    "outputId": "5b790061-8d36-49e5-8fb8-e9748e7e7246"
   },
   "outputs": [],
   "source": [
    "from sklearn import metrics\n",
    "confusion_matrix=metrics.confusion_matrix(y_test, y_log_pred)\n",
    "confusion_matrix"
   ]
  },
  {
   "cell_type": "code",
   "execution_count": null,
   "metadata": {
    "colab": {
     "base_uri": "https://localhost:8080/"
    },
    "id": "3AS2hr_K55l5",
    "outputId": "d541ddef-e036-470f-894d-aecf4bb8859c"
   },
   "outputs": [],
   "source": [
    "%pip install statsmodels\n",
    "import statsmodels.api as sm\n",
    "logit_model = sm.Logit(y_train, X_train)\n",
    "result_smlog = logit_model.fit()\n",
    "\n",
    "print(result_smlog.summary())"
   ]
  },
  {
   "cell_type": "code",
   "execution_count": null,
   "metadata": {
    "colab": {
     "base_uri": "https://localhost:8080/"
    },
    "id": "nuVo1LkH5-Xp",
    "outputId": "90417df1-dd7a-48bc-cdaf-45a5bb84dad8"
   },
   "outputs": [],
   "source": [
    "smlog_pred=result_smlog.predict(X_test)\n",
    "smlog_pred_binary = (smlog_pred >= 0.5).astype(int)\n",
    "\n",
    "accuracy_logit = accuracy_score(y_test, smlog_pred_binary)\n",
    "print(\"Accuracy:\", accuracy_logit)"
   ]
  },
  {
   "cell_type": "code",
   "execution_count": null,
   "metadata": {
    "colab": {
     "base_uri": "https://localhost:8080/"
    },
    "id": "1XWtVzkz6FV5",
    "outputId": "3ef1d3ec-8fb8-4f06-b660-26185d7bc9d6"
   },
   "outputs": [],
   "source": [
    "from sklearn.metrics import roc_curve, roc_auc_score\n",
    "auc_score = roc_auc_score(y_test, smlog_pred_binary)\n",
    "auc_score"
   ]
  },
  {
   "cell_type": "code",
   "execution_count": null,
   "metadata": {
    "colab": {
     "base_uri": "https://localhost:8080/",
     "height": 573
    },
    "id": "0tBT_x0A6Hnp",
    "outputId": "4f4638ec-ea72-457a-8d46-526fc1d07a42"
   },
   "outputs": [],
   "source": [
    "fpr, tpr, thresholds = roc_curve(y_test, smlog_pred_binary)\n",
    "plt.figure(figsize=(8, 6))\n",
    "plt.plot(fpr, tpr, label=f'ROC Curve (AUC = {auc_score:.2f})')\n",
    "plt.plot([0, 1], [0, 1], linestyle='--', color='r')\n",
    "plt.xlabel('False Positive Rate (1-Specificity)')\n",
    "plt.ylabel('True Positive Rate (Sensitivity)')\n",
    "plt.title('ROC Curve for Logistic Regression')\n",
    "plt.legend()\n",
    "plt.grid(True)\n",
    "plt.show()"
   ]
  },
  {
   "cell_type": "code",
   "execution_count": null,
   "metadata": {
    "id": "P0SP0U4w6MZ4"
   },
   "outputs": [],
   "source": [
    "from sklearn.metrics import confusion_matrix\n",
    "cmlg = confusion_matrix(y_test, smlog_pred_binary)"
   ]
  },
  {
   "cell_type": "code",
   "execution_count": null,
   "metadata": {
    "colab": {
     "base_uri": "https://localhost:8080/",
     "height": 642
    },
    "id": "DCc2r_LQ6OW4",
    "outputId": "572ef720-26af-4eca-d47a-1c78d7794331"
   },
   "outputs": [],
   "source": [
    "plt.figure(figsize=(8, 6))\n",
    "sns.heatmap(cmlg, annot=True, cmap='Blues', fmt='g', cbar=False)\n",
    "plt.xlabel('Predicted Labels')\n",
    "plt.ylabel('True Labels')\n",
    "plt.title('Confusion Matrix for test data')\n",
    "plt.show()"
   ]
  },
  {
   "cell_type": "code",
   "execution_count": null,
   "metadata": {
    "colab": {
     "base_uri": "https://localhost:8080/",
     "height": 480
    },
    "id": "IlOl4oU56Tjw",
    "outputId": "cdedda20-3e4c-4122-9dcc-a6e023f649d5"
   },
   "outputs": [],
   "source": [
    "from sklearn.decomposition import PCA\n",
    "\n",
    "# Reduce the dimensionality of the feature space using PCA\n",
    "pca = PCA(n_components=2)\n",
    "X_train_pca = pca.fit_transform(X_train)\n",
    "\n",
    "# Train a logistic regression model on the reduced feature space\n",
    "model_log_pca = LogisticRegression(**hyperparameters)\n",
    "model_log_pca.fit(X_train_pca, y_train)\n",
    "\n",
    "# Define a meshgrid for the reduced feature space\n",
    "x_min, x_max = X_train_pca[:, 0].min() - 1, X_train_pca[:, 0].max() + 1\n",
    "y_min, y_max = X_train_pca[:, 1].min() - 1, X_train_pca[:, 1].max() + 1\n",
    "xx, yy = np.meshgrid(np.arange(x_min, x_max, 0.1),\n",
    "                     np.arange(y_min, y_max, 0.1))\n",
    "\n",
    "# Calculate the predicted probabilities for each point in the meshgrid\n",
    "Z = model_log_pca.predict(np.c_[xx.ravel(), yy.ravel()])\n",
    "Z = Z.reshape(xx.shape)\n",
    "\n",
    "# Plot the decision boundary along with the training data points in the reduced space\n",
    "plt.contourf(xx, yy, Z, cmap=plt.cm.coolwarm, alpha=0.8)\n",
    "plt.scatter(X_train_pca[:, 0], X_train_pca[:, 1], c=y_train, cmap=plt.cm.coolwarm, edgecolors='k')\n",
    "plt.xlabel('a ')\n",
    "plt.ylabel('b')\n",
    "plt.title('Logistic Regression Decision Boundary')\n",
    "plt.colorbar()\n",
    "plt.show()"
   ]
  },
  {
   "cell_type": "code",
   "execution_count": null,
   "metadata": {
    "id": "66vDHL-I6YqY"
   },
   "outputs": [],
   "source": [
    "from sklearn.preprocessing import MinMaxScaler\n",
    "scaler = MinMaxScaler(feature_range=(0, 1))\n",
    "X_train_scaled = scaler.fit_transform(X_train)\n",
    "\n",
    "X_test_scaled = scaler.transform(X_test)"
   ]
  },
  {
   "cell_type": "code",
   "execution_count": null,
   "metadata": {
    "id": "axPjLh7D6gyY"
   },
   "outputs": [],
   "source": [
    "# %pip install tensorflow\n",
    "import tensorflow as tf\n",
    "\n",
    "from tensorflow import keras\n",
    "from tensorflow.keras import layers\n",
    "\n",
    "model = keras.Sequential([\n",
    "    keras.Input(shape=(12,)),  # Define input shape using Input layer\n",
    "    layers.Dense(100, activation='relu'),\n",
    "    layers.Dropout(0.5), #Aumentando a taxa de regularização para (0.5), visando reduzir o overfitting\n",
    "    layers.Dense(100, activation='relu'),\n",
    "    layers.Dense(100, activation='relu'),\n",
    "    layers.Dense(1, activation='sigmoid')\n",
    "])"
   ]
  },
  {
   "cell_type": "code",
   "execution_count": null,
   "metadata": {
    "colab": {
     "base_uri": "https://localhost:8080/"
    },
    "id": "CsJYTwge6oV5",
    "outputId": "23ba8f6f-d612-40eb-d7dc-7f447cf15594"
   },
   "outputs": [],
   "source": [
    "# Treinamento e avaliação do modelo\n",
    "model.compile(optimizer='adam', loss='binary_crossentropy', metrics=['accuracy'])\n",
    "model.fit(X_train, y_train, epochs=100, batch_size=200, validation_split=0.2)\n",
    "test_loss, test_accuracy = model.evaluate(X_test, y_test)\n",
    "print(f\"Test Loss: {test_loss}, Test Accuracy: {test_accuracy}\")"
   ]
  },
  {
   "cell_type": "code",
   "execution_count": null,
   "metadata": {
    "colab": {
     "base_uri": "https://localhost:8080/"
    },
    "id": "U2AmndSd73CR",
    "outputId": "6ad7108a-4977-4e75-87bb-ded8a450eac2"
   },
   "outputs": [],
   "source": [
    "model.fit(X_train_scaled, y_train, epochs=100, batch_size=200, validation_split=0.2)"
   ]
  },
  {
   "cell_type": "code",
   "execution_count": null,
   "metadata": {
    "colab": {
     "base_uri": "https://localhost:8080/"
    },
    "id": "w6Oy9oQM8D0Q",
    "outputId": "5df0c8ae-a0f0-40fb-bb5d-b61889724a55"
   },
   "outputs": [],
   "source": [
    "y_pred_prob = model.predict(X_test_scaled)\n",
    "y_pred = (y_pred_prob > 0.5).astype(int)\n",
    "accuracy = accuracy_score(y_test, y_pred)\n",
    "print(f\"Accuracy: {accuracy:.2f}\")"
   ]
  },
  {
   "cell_type": "code",
   "execution_count": null,
   "metadata": {
    "id": "enHs_iER8KQz"
   },
   "outputs": [],
   "source": [
    "model = tf.keras.models.Sequential([\n",
    "    keras.Input(shape=(X_train_scaled.shape[1],)),  # Define input shape using Input layer\n",
    "    tf.keras.layers.Dense(100, activation='relu'),\n",
    "    tf.keras.layers.BatchNormalization(),\n",
    "    tf.keras.layers.Dropout(0.5),\n",
    "    tf.keras.layers.Dense(100, activation='relu'),\n",
    "    tf.keras.layers.Dense(1, activation='sigmoid')\n",
    "])"
   ]
  },
  {
   "cell_type": "code",
   "execution_count": null,
   "metadata": {
    "id": "susBUMAK8ixE"
   },
   "outputs": [],
   "source": [
    "model.compile(optimizer='adam', loss='binary_crossentropy', metrics=['accuracy'])"
   ]
  },
  {
   "cell_type": "code",
   "execution_count": null,
   "metadata": {
    "colab": {
     "base_uri": "https://localhost:8080/"
    },
    "id": "LkBn8wKL8tsQ",
    "outputId": "78683bf0-970b-4bc8-afa6-d774b17a7696"
   },
   "outputs": [],
   "source": [
    "model.fit(X_train_scaled, y_train, epochs=100, validation_split=0.2)"
   ]
  },
  {
   "cell_type": "code",
   "execution_count": null,
   "metadata": {
    "colab": {
     "base_uri": "https://localhost:8080/"
    },
    "id": "DquxuaSD8tg_",
    "outputId": "fc92a322-4811-4731-b0e9-259eba0d5cf8"
   },
   "outputs": [],
   "source": [
    "test_loss, test_accuracy = model.evaluate(X_test_scaled, y_test)\n",
    "print(f\"Test Loss: {test_loss}, Test Accuracy: {test_accuracy}\")"
   ]
  },
  {
   "cell_type": "code",
   "execution_count": null,
   "metadata": {
    "id": "hLmHQRmc9KyA"
   },
   "outputs": [],
   "source": [
    "model = tf.keras.models.Sequential([\n",
    "       tf.keras.layers.Input(shape=(X_train_scaled.shape[1],)),\n",
    "       tf.keras.layers.Dense(100, activation='relu'),\n",
    "       tf.keras.layers.BatchNormalization(),\n",
    "       tf.keras.layers.Dropout(0.5),\n",
    "       tf.keras.layers.Dense(100, activation='relu'),\n",
    "       tf.keras.layers.Dense(1, activation='sigmoid')\n",
    "   ])"
   ]
  },
  {
   "cell_type": "code",
   "execution_count": null,
   "metadata": {
    "id": "G3FIuqMi9qek"
   },
   "outputs": [],
   "source": [
    "model.compile(optimizer='adam', loss='binary_crossentropy', metrics=['accuracy'])"
   ]
  },
  {
   "cell_type": "code",
   "execution_count": null,
   "metadata": {
    "colab": {
     "base_uri": "https://localhost:8080/"
    },
    "id": "KxHvTEXq9s8A",
    "outputId": "2bb97f81-e7a4-454c-904a-f161609ae6f0"
   },
   "outputs": [],
   "source": [
    "deepmodel= model.fit(X_train_scaled, y_train, epochs=100, batch_size=200, validation_split=0.2)"
   ]
  },
  {
   "cell_type": "code",
   "execution_count": null,
   "metadata": {
    "colab": {
     "base_uri": "https://localhost:8080/"
    },
    "id": "j0jOxjd89xiY",
    "outputId": "0f781d0c-a320-447c-de73-6f6076ed7313"
   },
   "outputs": [],
   "source": [
    "test_loss, test_accuracy = model.evaluate(X_test_scaled, y_test)\n",
    "print(f\"Test Loss: {test_loss}, Test Accuracy: {test_accuracy}\")\n",
    "\n",
    "# Parar o monitoramento de consumo de energia e imprimir o relatório\n",
    "tracker.stop()"
   ]
  }
 ],
 "metadata": {
  "accelerator": "GPU",
  "colab": {
   "gpuType": "T4",
   "provenance": []
  },
  "kernelspec": {
   "display_name": "Python 3",
   "language": "python",
   "name": "python3"
  },
  "language_info": {
   "codemirror_mode": {
    "name": "ipython",
    "version": 3
   },
   "file_extension": ".py",
   "mimetype": "text/x-python",
   "name": "python",
   "nbconvert_exporter": "python",
   "pygments_lexer": "ipython3",
   "version": "3.10.11"
  }
 },
 "nbformat": 4,
 "nbformat_minor": 0
}
